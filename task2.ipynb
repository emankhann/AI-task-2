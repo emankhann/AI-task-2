{
 "cells": [
  {
   "cell_type": "code",
   "execution_count": 5,
   "id": "ecc0e7e7-c365-446d-b5fa-7526db6ede1a",
   "metadata": {},
   "outputs": [
    {
     "name": "stdout",
     "output_type": "stream",
     "text": [
      "Nearest Neighbors (Distance, Class): [(1.0, 'B'), (3.605551275463989, 'B'), (4.123105625617661, 'A')]\n",
      "Predicted Classification: B\n"
     ]
    }
   ],
   "source": [
    "import numpy as np\n",
    "from collections import Counter\n",
    "\n",
    "# Training samples (X1, X2, Y)\n",
    "data = [\n",
    "    (1, 2, 'A'),\n",
    "    (2, 3, 'A'),\n",
    "    (3, 6, 'B'),\n",
    "    (6, 5, 'B')\n",
    "]\n",
    "\n",
    "# Query instance\n",
    "query_instance = (3, 7)\n",
    "\n",
    "# Step 1: Calculate Euclidean distances\n",
    "distances = []\n",
    "for x1, x2, label in data:\n",
    "    # Corrected Euclidean distance formula\n",
    "    distance = np.sqrt((x1 - query_instance[0])**2 + (x2 - query_instance[1])**2)\n",
    "    distances.append((distance, label))\n",
    "\n",
    "# Step 2: Sort by distance\n",
    "distances.sort(key=lambda x: x[0])\n",
    "\n",
    "# Step 3: Select K nearest neighbors\n",
    "k = 3\n",
    "nearest_neighbors = distances[:k]\n",
    "\n",
    "# Step 4: Gather the classes of the nearest neighbors and determine the majority class\n",
    "neighbor_classes = [label for _, label in nearest_neighbors]\n",
    "prediction = Counter(neighbor_classes).most_common(1)[0][0]\n",
    "\n",
    "# Display results\n",
    "print(\"Nearest Neighbors (Distance, Class):\", nearest_neighbors)\n",
    "print(\"Predicted Classification:\", prediction)\n"
   ]
  },
  {
   "cell_type": "code",
   "execution_count": null,
   "id": "dfa4102b-29a1-407a-99a0-f513f788d444",
   "metadata": {},
   "outputs": [],
   "source": []
  }
 ],
 "metadata": {
  "kernelspec": {
   "display_name": "Python 3 (ipykernel)",
   "language": "python",
   "name": "python3"
  },
  "language_info": {
   "codemirror_mode": {
    "name": "ipython",
    "version": 3
   },
   "file_extension": ".py",
   "mimetype": "text/x-python",
   "name": "python",
   "nbconvert_exporter": "python",
   "pygments_lexer": "ipython3",
   "version": "3.12.7"
  }
 },
 "nbformat": 4,
 "nbformat_minor": 5
}
